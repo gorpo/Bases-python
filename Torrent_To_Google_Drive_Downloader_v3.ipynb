{
  "nbformat": 4,
  "nbformat_minor": 0,
  "metadata": {
    "colab": {
      "name": "Torrent_To_Google_Drive_Downloader_v3.ipynb",
      "provenance": [],
      "collapsed_sections": [],
      "toc_visible": true,
      "include_colab_link": true
    },
    "kernelspec": {
      "name": "python3",
      "display_name": "Python 3"
    }
  },
  "cells": [
    {
      "cell_type": "markdown",
      "metadata": {
        "id": "view-in-github",
        "colab_type": "text"
      },
      "source": [
        "<a href=\"https://colab.research.google.com/github/gorpo/Bases-python/blob/master/Torrent_To_Google_Drive_Downloader_v3.ipynb\" target=\"_parent\"><img src=\"https://colab.research.google.com/assets/colab-badge.svg\" alt=\"Open In Colab\"/></a>"
      ]
    },
    {
      "cell_type": "markdown",
      "metadata": {
        "id": "aQuWDmfm9YOi",
        "colab_type": "text"
      },
      "source": [
        "# Torrent To Google Drive Downloader "
      ]
    },
    {
      "cell_type": "code",
      "metadata": {
        "colab_type": "code",
        "id": "oWM9l2fvtuvO",
        "colab": {},
        "cellView": "form"
      },
      "source": [
        "#@title Montar Gdrive\n",
        "from google.colab import drive\n",
        "drive.mount('/content/drive')"
      ],
      "execution_count": 0,
      "outputs": []
    },
    {
      "cell_type": "code",
      "metadata": {
        "id": "HojhvGsOLW5_",
        "colab_type": "code",
        "colab": {},
        "cellView": "form"
      },
      "source": [
        "#@title Instalar o pacote libtorrent\n",
        "#@markdown   https://www.libtorrent.org/\n",
        "!apt install python3-libtorrent"
      ],
      "execution_count": 0,
      "outputs": []
    },
    {
      "cell_type": "code",
      "metadata": {
        "id": "dgucfwzef4BD",
        "colab_type": "code",
        "colab": {},
        "cellView": "form"
      },
      "source": [
        "#@title Caminho Gdrive para ser salvo\n",
        "pasta = \"/content/drive/Shared drives/ManicomioPython/Torrent/\" #@param {type:\"string\"}\n",
        "\n",
        "#insira o caminho da pasta para ser salvo seu torrent\n",
        "#pasta = '/content/drive/Shared drives/ManicomioPython/Torrent/'\n",
        "#pasta = '/content/drive/My Drive'"
      ],
      "execution_count": 0,
      "outputs": []
    },
    {
      "cell_type": "code",
      "metadata": {
        "id": "tTYbLN-BgBAy",
        "colab_type": "code",
        "colab": {},
        "cellView": "form"
      },
      "source": [
        "#@title Link de download Magnet Torrent\n",
        "link = \"magnet:?xt=urn:btih:a759524ddad75580e6f84d34230eeac73ba82e0a&dn=DeepFaceLab&tr=udp%3a%2f%2ftracker.coppersurfer.tk%3a6969%2fannounce\" #@param {type:\"string\"}\n",
        "\n",
        "#insira o link de download torrent ou magnet\n",
        "#link = 'magnet:?xt=urn:btih:a759524ddad75580e6f84d34230eeac73ba82e0a&dn=DeepFaceLab&tr=udp%3a%2f%2ftracker.coppersurfer.tk%3a6969%2fannounce'"
      ],
      "execution_count": 0,
      "outputs": []
    },
    {
      "cell_type": "code",
      "metadata": {
        "colab_type": "code",
        "id": "b09BxnANO2ep",
        "colab": {},
        "cellView": "form"
      },
      "source": [
        "#@title Iniciar o Download Torrent\n",
        "import libtorrent as lt\n",
        "import time\n",
        "import datetime\n",
        "\n",
        "try:\n",
        "  ses = lt.session()\n",
        "  ses.listen_on(6881, 6891)\n",
        "  params = {\n",
        "      'save_path': pasta,\n",
        "      'storage_mode': lt.storage_mode_t(2),\n",
        "      'paused': False,\n",
        "      'auto_managed': True,\n",
        "      'duplicate_is_error': True}\n",
        "\n",
        "  print(link)\n",
        "  handle = lt.add_magnet_uri(ses, link, params)\n",
        "  ses.start_dht()\n",
        "  begin = time.time()\n",
        "  print(datetime.datetime.now())\n",
        "  print ('Baixando Metadados...')\n",
        "  while (not handle.has_metadata()):\n",
        "      time.sleep(1)\n",
        "  print ('Metadados salvos, Iniciando o Download Torrent...')\n",
        "\n",
        "  print(\"Iniciando o Download:\", handle.name())\n",
        "\n",
        "  while (handle.status().state != lt.torrent_status.seeding):\n",
        "      s = handle.status()\n",
        "      state_str = ['queued', 'checking', 'downloading metadata', \\\n",
        "              'downloading', 'finished', 'seeding', 'allocating']\n",
        "      print ('%.2f%% completo (down: %.1f kb/s up: %.1f kB/s peers: %d) %s ' % \\\n",
        "              (s.progress * 100, s.download_rate / 1000, s.upload_rate / 1000, \\\n",
        "              s.num_peers, state_str[s.state]))\n",
        "      time.sleep(5)\n",
        "\n",
        "  end = time.time()\n",
        "  print(handle.name(), \"COMPLETO\")\n",
        "  print(\"Tempo decorrido: \",int((end-begin)//60),\"min :\", int((end-begin)%60), \"sec\")\n",
        "  print(datetime.datetime.now())\n",
        "except:\n",
        "  print('Algo deu errado tenta novamente dando o play na célula novamente.')\n"
      ],
      "execution_count": 0,
      "outputs": []
    }
  ]
}