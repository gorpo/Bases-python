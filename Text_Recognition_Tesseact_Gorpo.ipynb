{
  "nbformat": 4,
  "nbformat_minor": 0,
  "metadata": {
    "colab": {
      "name": "Text Recognition Tesseact Gorpo.ipynb",
      "provenance": [],
      "collapsed_sections": [],
      "toc_visible": true,
      "authorship_tag": "ABX9TyPs/e3VikQJTtwH0gPFi3Bi",
      "include_colab_link": true
    },
    "kernelspec": {
      "name": "python3",
      "display_name": "Python 3"
    }
  },
  "cells": [
    {
      "cell_type": "markdown",
      "metadata": {
        "id": "view-in-github",
        "colab_type": "text"
      },
      "source": [
        "<a href=\"https://colab.research.google.com/github/gorpo/Bases-python/blob/master/Text_Recognition_Tesseact_Gorpo.ipynb\" target=\"_parent\"><img src=\"https://colab.research.google.com/assets/colab-badge.svg\" alt=\"Open In Colab\"/></a>"
      ]
    },
    {
      "cell_type": "markdown",
      "metadata": {
        "id": "v_sH84trynls",
        "colab_type": "text"
      },
      "source": [
        "# Reconhecimento de Texto | Opencv | Pytesseract\n",
        "Neste notebook abordamos o uso do reconhecimento de textos com Opencv e Pytesseract, no qual este é responsável pela nossa analise de texto, substituindo assim nossos modelos treinados ou haarcascades.\n"
      ]
    },
    {
      "cell_type": "markdown",
      "metadata": {
        "id": "0QgDsI-4y_jq",
        "colab_type": "text"
      },
      "source": [
        "# Instalações e Downloads\n"
      ]
    },
    {
      "cell_type": "code",
      "metadata": {
        "id": "6nyXN2X4uWco",
        "colab_type": "code",
        "colab": {},
        "cellView": "form"
      },
      "source": [
        "#@title Será feito o download do pytesseract e gtts via pip e dos pacotes tesseract-ocr e libtesseract-dev via apt.\n",
        "from google.colab import output\n",
        "!pip install pytesseract\n",
        "!pip install gtts\n",
        "!apt-get install tesseract-ocr\n",
        "!apt-get install libtesseract-dev\n",
        "output.clear\n",
        "!echo Todos arquivos baixados com sucesso."
      ],
      "execution_count": 0,
      "outputs": []
    },
    {
      "cell_type": "markdown",
      "metadata": {
        "id": "OHH4tO0SzV8K",
        "colab_type": "text"
      },
      "source": [
        "# Upload de imagens para Análise"
      ]
    },
    {
      "cell_type": "markdown",
      "metadata": {
        "id": "aOFb2aBlIPQJ",
        "colab_type": "text"
      },
      "source": [
        " **Upload da imagem via Link:**\n",
        "<br>Insira um link válido com final .jpg ou .png, em caso de erros  use o sistema de upload de imagens na célula abaixo."
      ]
    },
    {
      "cell_type": "code",
      "metadata": {
        "id": "E9Zk7FK2ExeP",
        "colab_type": "code",
        "cellView": "form",
        "colab": {}
      },
      "source": [
        "#SISTEMA DE ANALISE DE IMAGENS COM MASCARA COVID19\n",
        "#download da imagem a ser analisada:\n",
        "\n",
        "url = \"https://i.imgur.com/heVp6Jj.jpg\" #@param {type:\"string\"}\n",
        "\n",
        "print(url)\n",
        "import requests\n",
        "import time\n",
        "\n",
        "#url = input()\n",
        "r = requests.get(url)\n",
        "with open('file.png', 'wb') as f:\n",
        "    f.write(r.content)\n",
        "print('Download da imagem concluido com sucesso, inicie o processo de análise...')\t\t\n",
        "\n",
        "\n"
      ],
      "execution_count": 0,
      "outputs": []
    },
    {
      "cell_type": "markdown",
      "metadata": {
        "id": "9O-jpJeLIS4a",
        "colab_type": "text"
      },
      "source": [
        " **Upload de imagens do seu computador:**"
      ]
    },
    {
      "cell_type": "code",
      "metadata": {
        "id": "zYhAFrUsFUvR",
        "colab_type": "code",
        "cellView": "form",
        "colab": {}
      },
      "source": [
        "#@markdown Rode esta célula e no botão 'Escolher arquivos', selecione a imagem que deseja fazer o upload.\n",
        "\n",
        "#faça upload da sua imagem do computador\n",
        "\n",
        "from google.colab import files\n",
        "import shutil\n",
        "uploaded = files.upload()\n",
        "for fn in uploaded.keys():\n",
        "  print('[INFO] Usuario fez upload do arquivo \"{name}\" com tamanho {length} bytes\\n[INFO] Imagem salva na pasta exemplos/file.png\\n[INFO] Upload concluido com sucesso rode a Analise de Imagens.'.format(name=fn, length=len(uploaded[fn])))\n",
        "shutil.move(fn, 'file.png')"
      ],
      "execution_count": 0,
      "outputs": []
    },
    {
      "cell_type": "markdown",
      "metadata": {
        "id": "fz9jjsgP1Rsw",
        "colab_type": "text"
      },
      "source": [
        "# Análise de imagem \n"
      ]
    },
    {
      "cell_type": "code",
      "metadata": {
        "id": "SyD_scrfuD0t",
        "colab_type": "code",
        "outputId": "0392e8e7-3839-4a3d-8970-2bd3815806fd",
        "colab": {
          "base_uri": "https://localhost:8080/",
          "height": 627
        },
        "cellView": "form"
      },
      "source": [
        "#@title A análise de imagem irá pegar seu arquivo, fazer o reconhecimento de texto com o pysseract manipula-lo no opencv e trazer a resposta final em um arquivo .txt, via terminal e via voz além de uma imagem mostrando os textos reconhecidos.\n",
        "from google.colab.patches import cv2_imshow\n",
        "from pytesseract import Output\n",
        "import pytesseract\n",
        "import cv2\n",
        "\n",
        "\n",
        "\n",
        "\n",
        "imagem = cv2.imread('file.png')\n",
        "rgb = cv2.cvtColor(imagem, cv2.COLOR_BGR2RGB)\n",
        "resultados = pytesseract.image_to_data(rgb, output_type=Output.DICT)\n",
        "\n",
        "\n",
        "frase = []\n",
        "for i in range(0, len(resultados[\"text\"])):\n",
        "\t# extrai as coordenadas da caixa delimitadora da região de texto do resultado atual\n",
        "\tx = resultados[\"left\"][i]\n",
        "\ty = resultados[\"top\"][i]\n",
        "\tw = resultados[\"width\"][i]\n",
        "\th = resultados[\"height\"][i]\n",
        "\t# extrair o próprio texto do OCR, juntamente com a confiança na localização do texto\n",
        "\ttext = resultados[\"text\"][i]\n",
        "\tconf = int(resultados[\"conf\"][i])\n",
        "\t# filtrar localizações de texto de predicção(confiança) fraca/baixa\n",
        "\tif conf > 0:\n",
        "\t\t# mostra a predicção(confidencia) de cada palavra\n",
        "\n",
        "\t\tprint(f\"[Confidencia] {conf} | [Texto] {text}\")\n",
        "\n",
        "\t\t# retira o texto não ASCII para que possamos desenhar o texto na imagem usando o OpenCV e, em seguida, desenhe uma caixa delimitadora ao redor do texto junto com o próprio texto\n",
        "\t\ttext = \"\".join([c if ord(c) < 128 else \"\" for c in text]).strip()\n",
        "\t\tcv2.rectangle(imagem, (x, y), (x + w, y + h), (0, 255, 0), 2)\n",
        "\t\tcv2.putText(imagem, text, (x, y - 10), cv2.FONT_HERSHEY_SIMPLEX, 1.2, (0, 255, 0), 2)\n",
        "\t\tfrase.append(text)\n",
        "\n",
        "#grava o texto recebido\n",
        "for i in range(len(frase) +2):\n",
        "\ttry:\n",
        "\t\ttexto = open('file.txt','a')\n",
        "\t\ttexto.write(f'{frase[i]} ')\n",
        "\texcept:\n",
        "\t\tpass\n",
        "texto.write(' \\n')\n",
        "texto.close()\n",
        "\n",
        "# mostra a imagem\n",
        "cv2_imshow(imagem)\n",
        "#cv2.waitKey(0)\n"
      ],
      "execution_count": 71,
      "outputs": [
        {
          "output_type": "stream",
          "text": [
            "[Confidencia] 91 | [Texto] estou\n",
            "[Confidencia] 91 | [Texto] aprendendo\n",
            "[Confidencia] 96 | [Texto] python\n",
            "[Confidencia] 92 | [Texto] consigo\n",
            "[Confidencia] 93 | [Texto] ler\n",
            "[Confidencia] 92 | [Texto] sozinho\n",
            "[Confidencia] 96 | [Texto] este\n",
            "[Confidencia] 96 | [Texto] simples\n",
            "[Confidencia] 96 | [Texto] texto\n",
            "[Confidencia] 96 | [Texto] eu\n",
            "[Confidencia] 93 | [Texto] vou\n",
            "[Confidencia] 91 | [Texto] dominar\n",
            "[Confidencia] 89 | [Texto] o\n",
            "[Confidencia] 96 | [Texto] mundo\n"
          ],
          "name": "stdout"
        },
        {
          "output_type": "display_data",
          "data": {
            "image/png": "[encoded data removed]",
            "text/plain": [
              "<PIL.Image.Image image mode=RGB size=500x353 at 0x7FD889DAE0B8>"
            ]
          },
          "metadata": {
            "tags": []
          }
        }
      ]
    },
    {
      "cell_type": "markdown",
      "metadata": {
        "id": "beZh5wsi1wk2",
        "colab_type": "text"
      },
      "source": [
        "# Leitura do texto\n",
        "Iremos agora fazer a leitura em forma de texto e voz. No final delete os arquivos para não haver erros."
      ]
    },
    {
      "cell_type": "code",
      "metadata": {
        "id": "5gLbJjyM37sS",
        "colab_type": "code",
        "colab": {},
        "cellView": "form"
      },
      "source": [
        "#@title Leitura em texto.\n",
        "ler = open('file.txt','r')\n",
        "lido = ler.read()\n",
        "print(lido)\n"
      ],
      "execution_count": 0,
      "outputs": []
    },
    {
      "cell_type": "code",
      "metadata": {
        "id": "ld7pQyd609Xo",
        "colab_type": "code",
        "colab": {},
        "cellView": "form"
      },
      "source": [
        "#@title Leitura por voz via gtts.\n",
        "from gtts import gTTS \n",
        "from IPython.display import Audio \n",
        "import time\n",
        "#le o texto gravado\n",
        "ler = open('file.txt','r')\n",
        "lido = ler.read()\n",
        "\n",
        "tts = gTTS(lido,lang='pt-br') \n",
        "tts.save('file.wav') \n",
        "sound_file = 'file.wav'\n",
        "Audio(sound_file, autoplay=True) \n"
      ],
      "execution_count": 0,
      "outputs": []
    },
    {
      "cell_type": "code",
      "metadata": {
        "id": "fmlSwYBn5TQn",
        "colab_type": "code",
        "colab": {},
        "cellView": "form"
      },
      "source": [
        "#@title Execute para deletar os arquivos de texto e audio e recomeçar usar o sistema limpo.\n",
        "\n",
        "import os\n",
        "os.remove('file.txt')\n",
        "os.remove('file.wav')"
      ],
      "execution_count": 0,
      "outputs": []
    },
    {
      "cell_type": "markdown",
      "metadata": {
        "id": "qJXuOeVT58Op",
        "colab_type": "text"
      },
      "source": [
        "![@GorpoOrko 2020 | tcxsproject.com.br](https://raw.githubusercontent.com/gorpo/Manicomio-Boot-Theme/master/manicomio/boot.png)"
      ]
    }
  ]
}