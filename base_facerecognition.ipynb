{
  "nbformat": 4,
  "nbformat_minor": 0,
  "metadata": {
    "colab": {
      "name": "base_facerecognition.ipynb",
      "provenance": [],
      "collapsed_sections": [],
      "include_colab_link": true
    },
    "kernelspec": {
      "name": "python3",
      "display_name": "Python 3"
    },
    "accelerator": "GPU"
  },
  "cells": [
    {
      "cell_type": "markdown",
      "metadata": {
        "id": "view-in-github",
        "colab_type": "text"
      },
      "source": [
        "<a href=\"https://colab.research.google.com/github/gorpo/Bases-python/blob/master/base_facerecognition.ipynb\" target=\"_parent\"><img src=\"https://colab.research.google.com/assets/colab-badge.svg\" alt=\"Open In Colab\"/></a>"
      ]
    },
    {
      "cell_type": "code",
      "metadata": {
        "id": "r-gvYsnzmhgz",
        "colab_type": "code",
        "colab": {}
      },
      "source": [
        "from IPython.display import display, Javascript\n",
        "from google.colab.output import eval_js\n",
        "from base64 import b64decode, b64encode\n",
        "import numpy as np\n",
        "from PIL import Image\n",
        "import io\n",
        "import cv2"
      ],
      "execution_count": 0,
      "outputs": []
    },
    {
      "cell_type": "code",
      "metadata": {
        "id": "cuVXP5xqxLgs",
        "colab_type": "code",
        "colab": {}
      },
      "source": [
        "!wget https://raw.githubusercontent.com/opencv/opencv/master/data/haarcascades/haarcascade_frontalface_default.xml"
      ],
      "execution_count": 0,
      "outputs": []
    },
    {
      "cell_type": "code",
      "metadata": {
        "id": "N6sZV5rloIdr",
        "colab_type": "code",
        "colab": {}
      },
      "source": [
        "def VideoCapture():\n",
        "  js = Javascript('''\n",
        "    async function create(){\n",
        "      div = document.createElement('div');\n",
        "      document.body.appendChild(div);\n",
        "\n",
        "      video = document.createElement('video');\n",
        "      video.setAttribute('playsinline', '');\n",
        "\n",
        "      div.appendChild(video);\n",
        "\n",
        "      stream = await navigator.mediaDevices.getUserMedia({video: {facingMode: \"environment\"}});\n",
        "      video.srcObject = stream;\n",
        "\n",
        "      await video.play();\n",
        "\n",
        "      canvas =  document.createElement('canvas');\n",
        "      canvas.width = video.videoWidth;\n",
        "      canvas.height = video.videoHeight;\n",
        "      canvas.getContext('2d').drawImage(video, 0, 0);\n",
        "\n",
        "      div_out = document.createElement('div');\n",
        "      document.body.appendChild(div_out);\n",
        "      img = document.createElement('img');\n",
        "      div_out.appendChild(img);\n",
        "    }\n",
        "\n",
        "    async function capture(){\n",
        "        return await new Promise(function(resolve, reject){\n",
        "            pendingResolve = resolve;\n",
        "            canvas.getContext('2d').drawImage(video, 0, 0);\n",
        "            result = canvas.toDataURL('image/jpeg', 0.8);\n",
        "            pendingResolve(result);\n",
        "        })\n",
        "    }\n",
        "\n",
        "    function showimg(imgb64){\n",
        "        img.src = \"data:image/jpg;base64,\" + imgb64;\n",
        "    }\n",
        "\n",
        "  ''')\n",
        "  display(js)\n",
        "\n",
        "def byte2image(byte):\n",
        "  jpeg = b64decode(byte.split(',')[1])\n",
        "  im = Image.open(io.BytesIO(jpeg))\n",
        "  return np.array(im)\n",
        "\n",
        "def image2byte(image):\n",
        "  image = Image.fromarray(image)\n",
        "  buffer = io.BytesIO()\n",
        "  image.save(buffer, 'jpeg')\n",
        "  buffer.seek(0)\n",
        "  x = b64encode(buffer.read()).decode('utf-8')\n",
        "  return x\n",
        "\n"
      ],
      "execution_count": 0,
      "outputs": []
    },
    {
      "cell_type": "code",
      "metadata": {
        "id": "xejEt2f3UON3",
        "colab_type": "code",
        "colab": {}
      },
      "source": [
        "# face_detector = cv2.CascadeClassifier('haarcascade_frontalface_default.xml')\n",
        "\n",
        "# while True:\n",
        "#   byte = eval_js('capture()')\n",
        "#   im = byte2image(byte)\n",
        "#   #print(im.shape)\n",
        "#   gray = cv2.cvtColor(im, cv2.COLOR_RGB2GRAY)\n",
        "#   faces = face_detector.detectMultiScale(gray, 1.1, 4)\n",
        "#   for (x, y, w, h) in faces:\n",
        "#     cv2.rectangle(im, (x,y), (x+w,y+h), (255,0,0), 2)\n",
        "\n",
        "#   eval_js('showimg(\"{}\")'.format(image2byte(im)))"
      ],
      "execution_count": 0,
      "outputs": []
    },
    {
      "cell_type": "code",
      "metadata": {
        "id": "msywtRpOSi9Q",
        "colab_type": "code",
        "colab": {}
      },
      "source": [
        "!wget https://github.com/AKSHAYUBHAT/TensorFace/raw/master/openface/models/dlib/shape_predictor_68_face_landmarks.dat\n",
        "!wget https://github.com/ageitgey/face_recognition_models/raw/master/face_recognition_models/models/dlib_face_recognition_resnet_model_v1.dat"
      ],
      "execution_count": 0,
      "outputs": []
    },
    {
      "cell_type": "code",
      "metadata": {
        "id": "d0bN59akTBGy",
        "colab_type": "code",
        "colab": {}
      },
      "source": [
        "import numpy as np, cv2, dlib, os, pickle\n",
        "path = './facedata/'\n",
        "detector = dlib.get_frontal_face_detector()\n",
        "sp = dlib.shape_predictor('shape_predictor_68_face_landmarks.dat')\n",
        "model = dlib.face_recognition_model_v1('dlib_face_recognition_resnet_model_v1.dat')\n",
        "FACE_DESC = []\n",
        "FACE_NAME = []\n",
        "for fn in os.listdir(path):\n",
        "    if fn.endswith('.jpg'):\n",
        "        img = cv2.imread(path + fn)[:,:,::-1]\n",
        "        dets = detector(img, 1)\n",
        "        for k, d in enumerate(dets):\n",
        "            shape = sp(img, d)\n",
        "            face_desc = model.compute_face_descriptor(img, shape, 100)\n",
        "            FACE_DESC.append(np.array(face_desc))\n",
        "            print('loading...', fn)\n",
        "            FACE_NAME.append(fn[:fn.index('_')])\n",
        "pickle.dump((FACE_DESC, FACE_NAME), open('trainset.pk', 'wb'))"
      ],
      "execution_count": 0,
      "outputs": []
    },
    {
      "cell_type": "code",
      "metadata": {
        "id": "3PYhbnfcTV1Z",
        "colab_type": "code",
        "colab": {}
      },
      "source": [
        "face_detector = cv2.CascadeClassifier('haarcascade_frontalface_default.xml')\n",
        "detector = dlib.get_frontal_face_detector()\n",
        "sp = dlib.shape_predictor('shape_predictor_68_face_landmarks.dat')\n",
        "model = dlib.face_recognition_model_v1('dlib_face_recognition_resnet_model_v1.dat')\n",
        "FACE_DESC, FACE_NAME = pickle.load(open('trainset.pk', 'rb'))\n",
        "\n",
        "VideoCapture()\n",
        "eval_js('create()')\n",
        "while True:\n",
        "    byte = eval_js('capture()')\n",
        "    frame = byte2image(byte)\n",
        "    gray = cv2.cvtColor(frame, cv2.COLOR_RGB2GRAY)\n",
        "    faces = face_detector.detectMultiScale(gray, 1.3, 5)\n",
        "    for (x, y, w, h) in faces:\n",
        "        img = frame[y-10:y+h+10, x-10:x+w+10][:,:,::-1]\n",
        "        dets = detector(img, 1)\n",
        "        for k, d in enumerate(dets):\n",
        "            shape = sp(img, d)\n",
        "            face_desc0 = model.compute_face_descriptor(img, shape, 1)\n",
        "            d = []\n",
        "            for face_desc in FACE_DESC:\n",
        "                d.append(np.linalg.norm(np.array(face_desc) - np.array(face_desc0)))\n",
        "            d = np.array(d)\n",
        "            idx = np.argmin(d)\n",
        "            if d[idx] < 0.5:\n",
        "                name = FACE_NAME[idx]\n",
        "                #print(name)\n",
        "                cv2.putText(frame, name, (x, y-5), cv2.FONT_HERSHEY_COMPLEX, .7, (255,255,255),2)\n",
        "                cv2.rectangle(frame, (x, y), (x + w, y + h), (255, 0, 0), 2)\n",
        "    eval_js('showimg(\"{}\")'.format(image2byte(frame)))"
      ],
      "execution_count": 0,
      "outputs": []
    }
  ]
}